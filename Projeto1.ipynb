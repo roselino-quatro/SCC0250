{
 "cells": [
  {
   "cell_type": "code",
   "execution_count": null,
   "id": "5ab86de9-9656-4471-993e-99859fac9f5e",
   "metadata": {},
   "outputs": [],
   "source": [
    "# ============================================\n",
    "# USP\n",
    "# SSC0250 CG 2023\n",
    "# Lourenço de Salles Roselino nUsp 11796805\n",
    "# nome2 num2\n",
    "# Projeto 1\n",
    "# ============================================"
   ]
  },
  {
   "cell_type": "code",
   "execution_count": 1,
   "id": "6df979ef-b892-409e-a1a0-e21ba3d58226",
   "metadata": {},
   "outputs": [
    {
     "name": "stdout",
     "output_type": "stream",
     "text": [
      "[polyscope] Backend: openGL3_glfw -- Loaded openGL version: 4.2 (Core Profile) Mesa 22.2.5-0ubuntu0.1~22.04.3\n"
     ]
    }
   ],
   "source": [
    "# ============================================\n",
    "# bibliotecas \n",
    "import polyscope as ps\n",
    "import numpy as np\n",
    "import random\n",
    "# ============================================\n",
    "\n",
    "# ============================================\n",
    "# Configurações & Inicialização do Polyscope\n",
    "# Nada aqui deve influenciar na parte que temos interesse\n",
    "ps.set_program_name(\"Projeto 1\")\n",
    "ps.set_enable_render_error_checks(True)\n",
    "ps.set_max_fps(20)\n",
    "ps.init()"
   ]
  },
  {
   "cell_type": "code",
   "execution_count": 2,
   "id": "edb579bb-6a20-45e3-9b69-356716bf6735",
   "metadata": {},
   "outputs": [],
   "source": [
    "# Lista de objetos limpa\n",
    "objetos  = []"
   ]
  },
  {
   "cell_type": "code",
   "execution_count": 3,
   "id": "ae1080f0-a3da-431f-b0fb-ba28dac0f8ee",
   "metadata": {},
   "outputs": [],
   "source": [
    "def add_obj(name, vertices, faces):\n",
    "    global objetos\n",
    "    print(f\"Adicionando {name} como surface mesh\")\n",
    "    objetos = np.append([name], objetos)\n",
    "\n",
    "    ps.register_surface_mesh(name, vertices, faces)"
   ]
  },
  {
   "cell_type": "code",
   "execution_count": 68,
   "id": "417b2bd3-6bb1-4eea-87d2-71afc855962c",
   "metadata": {},
   "outputs": [],
   "source": [
    "# TESTES NÃO EXECUTAR\n",
    "def callback():\n",
    "    transformacao_2 = np.matrix([\n",
    "    [1, 0.0, 0.0, 0],\n",
    "    [0.0, 1, 0.0, 0],\n",
    "    [0.0, 0.0, 1, 0],\n",
    "    [0.0, 0.0, 0.0, 1]])\n",
    "    ps.get_surface_mesh(\"objeto_2\").set_transform(transformacao_2)\n",
    "\n",
    "ps.set_user_callback(callback)"
   ]
  },
  {
   "cell_type": "code",
   "execution_count": 21,
   "id": "e59f7567-2607-43a9-acf5-47777cd72c26",
   "metadata": {},
   "outputs": [
    {
     "name": "stdout",
     "output_type": "stream",
     "text": [
      "Adicionando objeto_1 como surface mesh\n",
      "Adicionando objeto_2 como surface mesh\n"
     ]
    }
   ],
   "source": [
    "# matriz de transformação para malha 1\n",
    "transformacao_1 = np.matrix([\n",
    "    [0.5, 0.0, 0.0, 0],\n",
    "    [0.0, 0.5, 0.0, 0],\n",
    "    [0.0, 0.0, 0.5, 0],\n",
    "    [0.0, 0.0, 0.0, 1]])\n",
    "\n",
    "# matriz de transformação para malha 2\n",
    "transformacao_2 = np.matrix([\n",
    "    [0.5, 0.0, 0.0, 3],\n",
    "    [0.0, 0.5, 0.0, 0],\n",
    "    [0.0, 0.0, 0.5, 0],\n",
    "    [0.0, 0.0, 0.0, 1]])\n",
    "\n",
    "# criar malha 1\n",
    "vertices = np.array([\n",
    "    [1.0, 0.0, 0.0],\n",
    "    [0.0, 0.0, 0.0],\n",
    "    [0.0, 1.0, 0.0],\n",
    "    [1.0, 1.0, 0.0],\n",
    "    [1.0, 0.0, 1.0],\n",
    "    [0.0, 0.0, 1.0],\n",
    "    [0.0, 1.0, 1.0],\n",
    "    [1.0, 1.0, 1.0],\n",
    "    [1.0, 2.0, 0.0]\n",
    "])\n",
    "\n",
    "faces = np.array([\n",
    "    [0,2,3],\n",
    "    [0,1,2],\n",
    "    [6,3,2],\n",
    "    [2,1,5],\n",
    "    [2,5,6],\n",
    "    [3,6,7],\n",
    "    [5,0,1],\n",
    "    [0,5,4],\n",
    "    [3,4,0],\n",
    "    [4,3,7],\n",
    "    [4,6,7],\n",
    "    [5,6,4],\n",
    "    [8,3,2],\n",
    "    [2,6,8],\n",
    "    [3,6,8]\n",
    "    \n",
    "])\n",
    "\n",
    "# Iniciando os dois objetos identicos, um vai ser mantido estatico pelas transformações e outro alterado, por motivos de comparação\n",
    "\n",
    "#registrar malha 1 no polyscope\n",
    "add_obj(\"objeto_1\", vertices, faces)\n",
    "ps.get_surface_mesh(\"objeto_1\").set_transform(transformacao_1)\n",
    "\n",
    "#registrar malha 2 no polyscope\n",
    "add_obj(\"objeto_2\", vertices, faces)\n",
    "ps.get_surface_mesh(\"objeto_2\").set_transform(transformacao_2)\n",
    "\n",
    "# View the point cloud and mesh we just registered in the 3D UI\n",
    "ps.show()"
   ]
  },
  {
   "cell_type": "code",
   "execution_count": 23,
   "id": "8cb5ef79-e063-473b-94a0-11a1470f4dde",
   "metadata": {},
   "outputs": [],
   "source": [
    "# Enviando o primeiro objeto para \"trás\" e \"levantando\"\n",
    "transformacao = np.matrix([\n",
    "    [0.5, 0.0, 0.0, 0],\n",
    "    [0.0, 0.5, 0.0, 1],\n",
    "    [0.0, 0.0, 0.5, 3],\n",
    "    [0.0, 0.0, 0.0, 1]])\n",
    "\n",
    "#registrar malha 1 no polyscope\n",
    "ps.get_surface_mesh(\"objeto_1\").set_transform(transformacao)\n",
    "\n",
    "ps.show()"
   ]
  },
  {
   "cell_type": "code",
   "execution_count": 25,
   "id": "54baecd5-eb05-4b73-a917-1d9bf2ac8a6f",
   "metadata": {},
   "outputs": [],
   "source": [
    "# Dobrando o primeiro de tamanho\n",
    "transformacao = np.matrix([\n",
    "    [1, 0.0, 0.0, 0],\n",
    "    [0.0, 1, 0.0, 0],\n",
    "    [0.0, 0.0, 1, 0],\n",
    "    [0.0, 0.0, 0.0, 1]])\n",
    "\n",
    "#registrar malha 1 no polyscope\n",
    "ps.get_surface_mesh(\"objeto_1\").set_transform(transformacao)\n",
    "\n",
    "ps.show()"
   ]
  }
 ],
 "metadata": {
  "kernelspec": {
   "display_name": "Python 3 (ipykernel)",
   "language": "python",
   "name": "python3"
  },
  "language_info": {
   "codemirror_mode": {
    "name": "ipython",
    "version": 3
   },
   "file_extension": ".py",
   "mimetype": "text/x-python",
   "name": "python",
   "nbconvert_exporter": "python",
   "pygments_lexer": "ipython3",
   "version": "3.10.12"
  }
 },
 "nbformat": 4,
 "nbformat_minor": 5
}
