{
 "cells": [
  {
   "cell_type": "code",
   "execution_count": null,
   "id": "5ab86de9-9656-4471-993e-99859fac9f5e",
   "metadata": {},
   "outputs": [],
   "source": [
    "# ============================================\n",
    "# USP\n",
    "# SSC0250 CG 2023\n",
    "# Lourenço de Salles Roselino nUsp 11796805\n",
    "# nome2 num2\n",
    "# Projeto 1\n",
    "# ============================================"
   ]
  },
  {
   "cell_type": "code",
   "execution_count": 24,
   "id": "6df979ef-b892-409e-a1a0-e21ba3d58226",
   "metadata": {},
   "outputs": [],
   "source": [
    "# ============================================\n",
    "# bibliotecas \n",
    "import polyscope as ps\n",
    "import numpy as np\n",
    "# ============================================\n",
    "\n",
    "# ============================================\n",
    "# Configurações & Inicialização do Polyscope\n",
    "# Nada aqui deve influenciar na parte que temos interesse\n",
    "ps.set_program_name(\"Projeto 1\")\n",
    "ps.set_enable_render_error_checks(True)\n",
    "ps.set_max_fps(20)\n",
    "ps.init()"
   ]
  },
  {
   "cell_type": "code",
   "execution_count": 25,
   "id": "edb579bb-6a20-45e3-9b69-356716bf6735",
   "metadata": {},
   "outputs": [],
   "source": [
    "# Lista de objetos limpa\n",
    "objetos  = []"
   ]
  },
  {
   "cell_type": "code",
   "execution_count": 26,
   "id": "ae1080f0-a3da-431f-b0fb-ba28dac0f8ee",
   "metadata": {},
   "outputs": [],
   "source": [
    "def add_obj(name, vertices, faces):\n",
    "    global objetos\n",
    "    print(f\"Adicionando {name} como surface mesh\")\n",
    "    objetos = np.append([name], objetos)\n",
    "\n",
    "    ps.register_surface_mesh(name, vertices, faces)"
   ]
  },
  {
   "cell_type": "code",
   "execution_count": 31,
   "id": "e59f7567-2607-43a9-acf5-47777cd72c26",
   "metadata": {},
   "outputs": [
    {
     "name": "stdout",
     "output_type": "stream",
     "text": [
      "Adicionando objeto_1 como surface mesh\n"
     ]
    }
   ],
   "source": [
    "# matriz de transformação para malha 1\n",
    "transformacao_1 = np.matrix([\n",
    "    [0.5, 0.0, 0.0, 0],\n",
    "    [0.0, 0.5, 0.0, 0],\n",
    "    [0.0, 0.0, 0.5, 0],\n",
    "    [0.0, 0.0, 0.0, 1]])\n",
    "\n",
    "# criar malha 1\n",
    "vertices = np.array([\n",
    "    [1.0, 0.0, 0.0],\n",
    "    [0.0, 0.0, 0.0],\n",
    "    [0.0, 1.0, 0.0],\n",
    "    [1.0, 1.0, 0.0]\n",
    "])\n",
    "\n",
    "faces = np.array([\n",
    "    [0,1,2],\n",
    "    [0,2,3]\n",
    "])\n",
    "\n",
    "#registrar malha 1 no polyscope\n",
    "add_obj(\"objeto_1\", vertices, faces)\n",
    "ps.get_surface_mesh(\"objeto_1\").set_transform(transformacao_1)\n",
    "\n",
    "# View the point cloud and mesh we just registered in the 3D UI\n",
    "ps.show()"
   ]
  }
 ],
 "metadata": {
  "kernelspec": {
   "display_name": "Python 3 (ipykernel)",
   "language": "python",
   "name": "python3"
  },
  "language_info": {
   "codemirror_mode": {
    "name": "ipython",
    "version": 3
   },
   "file_extension": ".py",
   "mimetype": "text/x-python",
   "name": "python",
   "nbconvert_exporter": "python",
   "pygments_lexer": "ipython3",
   "version": "3.10.12"
  }
 },
 "nbformat": 4,
 "nbformat_minor": 5
}
