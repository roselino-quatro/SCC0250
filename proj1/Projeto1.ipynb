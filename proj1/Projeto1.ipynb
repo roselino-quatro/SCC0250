{
 "cells": [
  {
   "cell_type": "code",
   "execution_count": 1,
   "id": "e59f7567-2607-43a9-acf5-47777cd72c26",
   "metadata": {},
   "outputs": [
    {
     "name": "stdout",
     "output_type": "stream",
     "text": [
      "[polyscope] Backend: openGL3_glfw -- Loaded openGL version: 4.2 (Core Profile) Mesa 22.2.5-0ubuntu0.1~22.04.3\n"
     ]
    }
   ],
   "source": [
    "# ============================================\n",
    "# usp\n",
    "# cg 2023\n",
    "# nome1 num1\n",
    "# nome2 num2\n",
    "# trabalho 1\n",
    "# ============================================\n",
    "\n",
    "# ============================================\n",
    "# bibliotecas \n",
    "import polyscope as ps\n",
    "import numpy as np\n",
    "# ============================================\n",
    "\n",
    "# ============================================\n",
    "# iniciar polyscope\n",
    "ps.init()\n",
    "\n",
    "# matriz de transformação para malha 1\n",
    "transformacao_1 = np.matrix([\n",
    "    [0.5, 0.0, 0.0, 0],\n",
    "    [0.0, 0.5, 0.0, 0],\n",
    "    [0.0, 0.0, 0.5, 0],\n",
    "    [0.0, 0.0, 0.0, 1]])\n",
    "\n",
    "# criar malha 1\n",
    "vertices = np.array([\n",
    "    [1.0, 0.0, 0.0],\n",
    "    [0.0, 0.0, 0.0],\n",
    "    [0.0, 1.0, 0.0]])\n",
    "\n",
    "faces = np.array([\n",
    "    [0,1,2]])\n",
    "\n",
    "#registrar malha 1 no polyscope\n",
    "mesh = ps.register_surface_mesh(\"objeto_1\", vertices, faces)\n",
    "mesh.set_transform(transformacao_1)\n",
    "\n",
    "# View the point cloud and mesh we just registered in the 3D UI\n",
    "ps.show()"
   ]
  }
 ],
 "metadata": {
  "kernelspec": {
   "display_name": "Python 3 (ipykernel)",
   "language": "python",
   "name": "python3"
  },
  "language_info": {
   "codemirror_mode": {
    "name": "ipython",
    "version": 3
   },
   "file_extension": ".py",
   "mimetype": "text/x-python",
   "name": "python",
   "nbconvert_exporter": "python",
   "pygments_lexer": "ipython3",
   "version": "3.10.12"
  }
 },
 "nbformat": 4,
 "nbformat_minor": 5
}
